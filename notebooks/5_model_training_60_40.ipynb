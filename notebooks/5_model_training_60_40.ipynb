{
 "cells": [
  {
   "cell_type": "code",
   "execution_count": 2,
   "id": "4365a150",
   "metadata": {},
   "outputs": [
    {
     "name": "stdout",
     "output_type": "stream",
     "text": [
      "Accuracy: 0.9786235662148071\n",
      "Precision: 0.9708920187793427\n",
      "Recall: 0.9904214559386973\n"
     ]
    }
   ],
   "source": [
    "from sklearn.model_selection import train_test_split\n",
    "from sklearn.ensemble import RandomForestClassifier\n",
    "from sklearn.metrics import accuracy_score, precision_score, recall_score\n",
    "import pickle\n",
    "import pandas as pd\n",
    "import numpy as np\n",
    "\n",
    "# Load the final processed dataset\n",
    "merged_df = pd.read_csv('/Users/ananyaaggarwal/Desktop/Movie Prediction Project/data/final_processed_data.csv')\n",
    "\n",
    "# Create target variable: success if success_ratio > 1\n",
    "y = merged_df['success_ratio'].apply(lambda x: 1 if x > 1 else 0)\n",
    "\n",
    "# Define features that are available **before release**\n",
    "feature_cols = ['budget', 'director_avg_revenue', 'cast_avg_revenue'] + \\\n",
    "               list(merged_df.columns[merged_df.columns.str.startswith('genres_')])\n",
    "\n",
    "# Extract features\n",
    "X = merged_df[feature_cols]\n",
    "\n",
    "# Split data into 60% train and 40% test\n",
    "X_train, X_test, y_train, y_test = train_test_split(X, y, test_size=0.4, random_state=42)\n",
    "\n",
    "# Convert to DataFrame just in case\n",
    "X_train = pd.DataFrame(X_train)\n",
    "X_test = pd.DataFrame(X_test)\n",
    "\n",
    "# Replace infinities with NaN\n",
    "X_train.replace([np.inf, -np.inf], np.nan, inplace=True)\n",
    "X_test.replace([np.inf, -np.inf], np.nan, inplace=True)\n",
    "\n",
    "# Drop any rows with NaNs\n",
    "X_train.dropna(inplace=True)\n",
    "y_train = y_train.loc[X_train.index]  # Sync y_train with dropped rows\n",
    "\n",
    "# Train the Random Forest model\n",
    "model = RandomForestClassifier()\n",
    "model.fit(X_train, y_train)\n",
    "\n",
    "# Evaluate the model\n",
    "y_pred = model.predict(X_test)\n",
    "print('Accuracy:', accuracy_score(y_test, y_pred))\n",
    "print('Precision:', precision_score(y_test, y_pred))\n",
    "print('Recall:', recall_score(y_test, y_pred))\n",
    "\n",
    "# Package the model and feature columns\n",
    "model_package = {\n",
    "    'model': model,\n",
    "    'features': feature_cols\n",
    "}\n",
    "\n",
    "# Save the trained model to a pickle file\n",
    "with open('/Users/ananyaaggarwal/Desktop/Movie Prediction Project/models/sequel_model_60_40.pkl', 'wb') as f:\n",
    "    pickle.dump(model_package, f)\n"
   ]
  }
 ],
 "metadata": {
  "kernelspec": {
   "display_name": "venv",
   "language": "python",
   "name": "python3"
  },
  "language_info": {
   "codemirror_mode": {
    "name": "ipython",
    "version": 3
   },
   "file_extension": ".py",
   "mimetype": "text/x-python",
   "name": "python",
   "nbconvert_exporter": "python",
   "pygments_lexer": "ipython3",
   "version": "3.12.4"
  }
 },
 "nbformat": 4,
 "nbformat_minor": 5
}
