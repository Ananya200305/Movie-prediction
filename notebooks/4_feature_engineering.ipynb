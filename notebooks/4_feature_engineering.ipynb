{
 "cells": [
  {
   "cell_type": "code",
   "execution_count": 1,
   "metadata": {},
   "outputs": [],
   "source": [
    "import seaborn as sns\n",
    "import matplotlib.pyplot as plt\n",
    "import pandas as pd\n",
    "import numpy as np"
   ]
  },
  {
   "cell_type": "code",
   "execution_count": 4,
   "metadata": {},
   "outputs": [],
   "source": [
    "merged_df = pd.read_csv('/Users/ananyaaggarwal/Desktop/Movie Prediction Project/data/cleaned_and_merged_data.csv')\n",
    "# Feature engineering: Director impact\n",
    "director_avg_revenue = merged_df.groupby('director')['revenue'].mean().reset_index()\n",
    "director_avg_revenue.rename(columns={'revenue': 'director_avg_revenue'}, inplace=True)\n",
    "merged_df = merged_df.merge(director_avg_revenue, on='director', how='left')\n",
    "\n",
    "# Feature engineering: Cast impact\n",
    "cast_avg_revenue = merged_df['cast'].explode().reset_index().merge(merged_df[['revenue']], left_on='index', right_index=True)\n",
    "cast_avg_revenue = cast_avg_revenue.groupby('cast')['revenue'].mean().reset_index()\n",
    "cast_avg_revenue.rename(columns={'revenue': 'cast_avg_revenue'}, inplace=True)\n",
    "merged_df = merged_df.merge(cast_avg_revenue, left_on='cast', right_on='cast', how='left')\n",
    "\n",
    "# Save the final processed dataset\n",
    "merged_df.to_csv('/Users/ananyaaggarwal/Desktop/Movie Prediction Project/data/final_processed_data.csv', index=False)"
   ]
  },
  {
   "cell_type": "code",
   "execution_count": 6,
   "metadata": {},
   "outputs": [
    {
     "ename": "TypeError",
     "evalue": "'Index' object is not callable",
     "output_type": "error",
     "traceback": [
      "\u001b[31m---------------------------------------------------------------------------\u001b[39m",
      "\u001b[31mTypeError\u001b[39m                                 Traceback (most recent call last)",
      "\u001b[36mCell\u001b[39m\u001b[36m \u001b[39m\u001b[32mIn[6]\u001b[39m\u001b[32m, line 1\u001b[39m\n\u001b[32m----> \u001b[39m\u001b[32m1\u001b[39m \u001b[43mmerged_df\u001b[49m\u001b[43m.\u001b[49m\u001b[43mcolumns\u001b[49m\u001b[43m(\u001b[49m\u001b[33;43m\"\u001b[39;49m\u001b[33;43mdirector_avg_revenue\u001b[39;49m\u001b[33;43m\"\u001b[39;49m\u001b[43m)\u001b[49m\n",
      "\u001b[31mTypeError\u001b[39m: 'Index' object is not callable"
     ]
    }
   ],
   "source": [
    "merged_df.columns(\"director_avg_revenue\")"
   ]
  },
  {
   "cell_type": "code",
   "execution_count": 7,
   "metadata": {},
   "outputs": [
    {
     "name": "stdout",
     "output_type": "stream",
     "text": [
      "          director  director_avg_revenue\n",
      "0       Aaron Hann                   0.0\n",
      "1  Aaron Schneider                   0.0\n",
      "2     Abel Ferrara             1227324.0\n",
      "3      Adam Brooks            55447968.0\n",
      "4     Adam Carolla                   0.0\n",
      "Index(['director', 'director_avg_revenue'], dtype='object')\n"
     ]
    }
   ],
   "source": [
    "print(director_avg_revenue.head())  # Ensure the director revenue data is calculated\n",
    "print(director_avg_revenue.columns)  # Should contain 'director' and 'director_avg_revenue'\n"
   ]
  },
  {
   "cell_type": "code",
   "execution_count": 8,
   "metadata": {},
   "outputs": [
    {
     "name": "stdout",
     "output_type": "stream",
     "text": [
      "                                                cast  cast_avg_revenue\n",
      "0  [\"Brian O'Halloran\", 'Jeff Anderson', 'Jason M...        15019753.0\n",
      "1  [\"Brooke D'Orsay\", 'Eric Mabius', 'Jody Thomps...               0.0\n",
      "2  [\"Catherine O'Hara\", 'Harry Shearer', 'Parker ...         5542025.0\n",
      "3  [\"Chris O'Donnell\", 'Alfred Molina', 'Michael ...               0.0\n",
      "4  [\"Chris O'Donnell\", 'Robin Tunney', 'Bill Paxt...       215663859.0\n",
      "Index(['cast', 'cast_avg_revenue'], dtype='object')\n"
     ]
    }
   ],
   "source": [
    "print(cast_avg_revenue.head())  # Ensure the cast revenue data is created\n",
    "print(cast_avg_revenue.columns)  # Should contain 'cast' and 'cast_avg_revenue'\n"
   ]
  },
  {
   "cell_type": "code",
   "execution_count": null,
   "metadata": {},
   "outputs": [],
   "source": []
  }
 ],
 "metadata": {
  "kernelspec": {
   "display_name": "Python 3",
   "language": "python",
   "name": "python3"
  },
  "language_info": {
   "codemirror_mode": {
    "name": "ipython",
    "version": 3
   },
   "file_extension": ".py",
   "mimetype": "text/x-python",
   "name": "python",
   "nbconvert_exporter": "python",
   "pygments_lexer": "ipython3",
   "version": "3.12.4"
  }
 },
 "nbformat": 4,
 "nbformat_minor": 2
}
